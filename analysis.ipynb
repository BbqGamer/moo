{
 "cells": [
  {
   "cell_type": "code",
   "execution_count": null,
   "metadata": {},
   "outputs": [],
   "source": [
    "import pickle\n",
    "\n",
    "with open(\"results.pkl\", \"rb\") as f:\n",
    "    results = pickle.load(f)"
   ]
  },
  {
   "cell_type": "code",
   "execution_count": null,
   "metadata": {},
   "outputs": [],
   "source": [
    "from moo.evo import fast_non_dominated_sort\n",
    "import plotly.express as px\n",
    "\n",
    "def viz3d(final_pop, text):\n",
    "    fronts = fast_non_dominated_sort(final_pop)\n",
    "    best_front_indices = fronts[0]\n",
    "\n",
    "    resdata = {\n",
    "        \"Variance\": [],\n",
    "        \"Return\": [],\n",
    "        \"Non-zero\": [],\n",
    "    }\n",
    "    for idx in best_front_indices:\n",
    "        w, (var, neg_ret, non_zero) = final_pop[idx]\n",
    "        resdata[\"Variance\"].append(var)\n",
    "        resdata[\"Return\"].append(neg_ret)\n",
    "        resdata[\"Non-zero\"].append(non_zero)\n",
    "\n",
    "    fig = px.scatter_3d(\n",
    "        resdata,\n",
    "        x=\"Return\",\n",
    "        y=\"Variance\",\n",
    "        z=\"Non-zero\",\n",
    "        title=\"Pareto front - \" + text\n",
    "    )\n",
    "\n",
    "    fig.update_traces(marker=dict(size=5))\n",
    "    fig.update_layout(\n",
    "        width=1000,\n",
    "        height=800,\n",
    "    )\n",
    "\n",
    "    fig.show()"
   ]
  },
  {
   "cell_type": "code",
   "execution_count": null,
   "metadata": {},
   "outputs": [],
   "source": [
    "import pandas as pd\n",
    "\n",
    "df = pd.DataFrame(results, columns=[\"init\", \"cross\", \"mutate\", \"popsize\", \"hv\", \"final_pop\"])\n",
    "df[\"hv\"] = df[\"hv\"].apply(lambda x: np.array(x))\n",
    "df"
   ]
  },
  {
   "cell_type": "code",
   "execution_count": null,
   "metadata": {},
   "outputs": [],
   "source": [
    "import numpy as np\n",
    "\n",
    "import matplotlib.pyplot as plt\n",
    "\n",
    "for init in df[\"init\"].unique():\n",
    "    subdf = df[df[\"init\"] == init]\n",
    "    plt.plot(subdf[\"hv\"].values.mean(), label=init)\n",
    "plt.title(\"Hypervolume of different initial population strategies\")\n",
    "plt.xlabel(\"Generation\")\n",
    "plt.ylabel(\"Hypervolume\")\n",
    "plt.legend()"
   ]
  },
  {
   "cell_type": "code",
   "execution_count": null,
   "metadata": {},
   "outputs": [],
   "source": [
    "for init in df[\"cross\"].unique():\n",
    "    subdf = df[df[\"cross\"] == init]\n",
    "    plt.plot(subdf[\"hv\"].values.mean(), label=init)\n",
    "plt.title(\"Hypervolume of different crossvalidation operators\")\n",
    "plt.xlabel(\"Generation\")\n",
    "plt.ylabel(\"Hypervolume\")\n",
    "plt.legend()"
   ]
  },
  {
   "cell_type": "code",
   "execution_count": null,
   "metadata": {},
   "outputs": [],
   "source": [
    "for init in df[\"mutate\"].unique():\n",
    "    subdf = df[df[\"mutate\"] == init]\n",
    "    plt.plot(subdf[\"hv\"].values.mean(), label=init)\n",
    "plt.title(\"Hypervolume of different mutation operators\")\n",
    "plt.xlabel(\"Generation\")\n",
    "plt.ylabel(\"Hypervolume\")\n",
    "plt.legend()"
   ]
  },
  {
   "cell_type": "code",
   "execution_count": null,
   "metadata": {},
   "outputs": [],
   "source": [
    "for init in df[\"popsize\"].unique():\n",
    "    subdf = df[df[\"popsize\"] == init]\n",
    "    plt.plot(subdf[\"hv\"].values.mean(), label=init)\n",
    "plt.title(\"Hypervolume of different population sizes\")\n",
    "plt.xlabel(\"Generation\")\n",
    "plt.ylabel(\"Hypervolume\")\n",
    "plt.legend()"
   ]
  },
  {
   "cell_type": "code",
   "execution_count": null,
   "metadata": {},
   "outputs": [],
   "source": [
    "sorted_results = sorted(results, key=lambda x: x[4][-1], reverse=True)\n",
    "for i in range(10):\n",
    "    init_pop, cross, mutate, popsize, hypervolumes, final_pop = sorted_results[i]\n",
    "    print(f\"Population size: {popsize}\")\n",
    "\n",
    "    print(f\"Initial population: {init_pop}\")\n",
    "    print(f\"Cross: {cross}\")\n",
    "    print(f\"Mutate: {mutate}\")\n",
    "    print(f\"Best hypervolume: {max(hypervolumes)}\")\n",
    "    viz3d(final_pop, f\"{init_pop} {cross} {mutate} popsize {popsize} hypervolume {max(hypervolumes)}\")"
   ]
  }
 ],
 "metadata": {
  "kernelspec": {
   "display_name": "venv",
   "language": "python",
   "name": "python3"
  },
  "language_info": {
   "codemirror_mode": {
    "name": "ipython",
    "version": 3
   },
   "file_extension": ".py",
   "mimetype": "text/x-python",
   "name": "python",
   "nbconvert_exporter": "python",
   "pygments_lexer": "ipython3",
   "version": "3.11.2"
  }
 },
 "nbformat": 4,
 "nbformat_minor": 2
}
